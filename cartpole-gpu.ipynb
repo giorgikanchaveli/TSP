{
 "cells": [
  {
   "cell_type": "code",
   "execution_count": null,
   "id": "5b388ca3",
   "metadata": {
    "papermill": {
     "duration": 0.006711,
     "end_time": "2023-10-05T22:16:43.580765",
     "exception": false,
     "start_time": "2023-10-05T22:16:43.574054",
     "status": "completed"
    },
    "tags": []
   },
   "outputs": [],
   "source": []
  },
  {
   "cell_type": "code",
   "execution_count": 1,
   "id": "1b6b6c68",
   "metadata": {
    "_cell_guid": "b1076dfc-b9ad-4769-8c92-a6c4dae69d19",
    "_uuid": "8f2839f25d086af736a60e9eeb907d3b93b6e0e5",
    "execution": {
     "iopub.execute_input": "2023-10-05T22:16:43.596100Z",
     "iopub.status.busy": "2023-10-05T22:16:43.595080Z",
     "iopub.status.idle": "2023-10-05T22:16:44.064961Z",
     "shell.execute_reply": "2023-10-05T22:16:44.063560Z"
    },
    "papermill": {
     "duration": 0.481056,
     "end_time": "2023-10-05T22:16:44.068069",
     "exception": false,
     "start_time": "2023-10-05T22:16:43.587013",
     "status": "completed"
    },
    "tags": []
   },
   "outputs": [],
   "source": [
    "# This Python 3 environment comes with many helpful analytics libraries installed\n",
    "# It is defined by the kaggle/python Docker image: https://github.com/kaggle/docker-python\n",
    "# For example, here's several helpful packages to load\n",
    "\n",
    "import numpy as np # linear algebra\n",
    "import pandas as pd # data processing, CSV file I/O (e.g. pd.read_csv)\n",
    "\n",
    "# Input data files are available in the read-only \"../input/\" directory\n",
    "# For example, running this (by clicking run or pressing Shift+Enter) will list all files under the input directory\n",
    "\n",
    "import os\n",
    "for dirname, _, filenames in os.walk('/kaggle/input'):\n",
    "    for filename in filenames:\n",
    "        print(os.path.join(dirname, filename))\n",
    "\n",
    "# You can write up to 20GB to the current directory (/kaggle/working/) that gets preserved as output when you create a version using \"Save & Run All\" \n",
    "# You can also write temporary files to /kaggle/temp/, but they won't be saved outside of the current session"
   ]
  },
  {
   "cell_type": "code",
   "execution_count": 2,
   "id": "67e7ee2d",
   "metadata": {
    "execution": {
     "iopub.execute_input": "2023-10-05T22:16:44.082090Z",
     "iopub.status.busy": "2023-10-05T22:16:44.081434Z",
     "iopub.status.idle": "2023-10-05T22:16:48.566094Z",
     "shell.execute_reply": "2023-10-05T22:16:48.564325Z"
    },
    "papermill": {
     "duration": 4.496206,
     "end_time": "2023-10-05T22:16:48.570223",
     "exception": false,
     "start_time": "2023-10-05T22:16:44.074017",
     "status": "completed"
    },
    "tags": []
   },
   "outputs": [],
   "source": [
    "import matplotlib.pyplot as plt\n",
    "import torch\n",
    "import numpy as np\n",
    "import time\n",
    "from torch.utils.data import Dataset, DataLoader\n",
    "import random\n",
    "from collections import namedtuple, deque\n",
    "import time\n",
    "\n",
    "import gymnasium as gym\n"
   ]
  },
  {
   "cell_type": "code",
   "execution_count": 3,
   "id": "16ee0944",
   "metadata": {
    "execution": {
     "iopub.execute_input": "2023-10-05T22:16:48.590291Z",
     "iopub.status.busy": "2023-10-05T22:16:48.589489Z",
     "iopub.status.idle": "2023-10-05T22:16:48.595305Z",
     "shell.execute_reply": "2023-10-05T22:16:48.594099Z"
    },
    "papermill": {
     "duration": 0.020301,
     "end_time": "2023-10-05T22:16:48.597532",
     "exception": false,
     "start_time": "2023-10-05T22:16:48.577231",
     "status": "completed"
    },
    "tags": []
   },
   "outputs": [],
   "source": [
    "device = torch.device(\"cuda\" if torch.cuda.is_available() else \"cpu\")\n"
   ]
  },
  {
   "cell_type": "code",
   "execution_count": 4,
   "id": "2ba32b05",
   "metadata": {
    "execution": {
     "iopub.execute_input": "2023-10-05T22:16:48.615775Z",
     "iopub.status.busy": "2023-10-05T22:16:48.615171Z",
     "iopub.status.idle": "2023-10-05T22:16:48.624133Z",
     "shell.execute_reply": "2023-10-05T22:16:48.622718Z"
    },
    "papermill": {
     "duration": 0.022612,
     "end_time": "2023-10-05T22:16:48.626952",
     "exception": false,
     "start_time": "2023-10-05T22:16:48.604340",
     "status": "completed"
    },
    "tags": []
   },
   "outputs": [
    {
     "data": {
      "text/plain": [
       "False"
      ]
     },
     "execution_count": 4,
     "metadata": {},
     "output_type": "execute_result"
    }
   ],
   "source": [
    "torch.cuda.is_available()"
   ]
  },
  {
   "cell_type": "markdown",
   "id": "09b1395c",
   "metadata": {
    "papermill": {
     "duration": 0.005909,
     "end_time": "2023-10-05T22:16:48.639214",
     "exception": false,
     "start_time": "2023-10-05T22:16:48.633305",
     "status": "completed"
    },
    "tags": []
   },
   "source": [
    "# Model"
   ]
  },
  {
   "cell_type": "markdown",
   "id": "070e7aee",
   "metadata": {
    "papermill": {
     "duration": 0.00576,
     "end_time": "2023-10-05T22:16:48.651010",
     "exception": false,
     "start_time": "2023-10-05T22:16:48.645250",
     "status": "completed"
    },
    "tags": []
   },
   "source": []
  },
  {
   "cell_type": "code",
   "execution_count": 5,
   "id": "7d1b11ce",
   "metadata": {
    "execution": {
     "iopub.execute_input": "2023-10-05T22:16:48.665925Z",
     "iopub.status.busy": "2023-10-05T22:16:48.665536Z",
     "iopub.status.idle": "2023-10-05T22:16:48.669866Z",
     "shell.execute_reply": "2023-10-05T22:16:48.668992Z"
    },
    "papermill": {
     "duration": 0.01411,
     "end_time": "2023-10-05T22:16:48.671838",
     "exception": false,
     "start_time": "2023-10-05T22:16:48.657728",
     "status": "completed"
    },
    "tags": []
   },
   "outputs": [],
   "source": [
    "import torch.nn as nn\n",
    "import torch.nn.functional as F\n",
    "\n",
    "\n"
   ]
  },
  {
   "cell_type": "code",
   "execution_count": 6,
   "id": "18ddd10d",
   "metadata": {
    "execution": {
     "iopub.execute_input": "2023-10-05T22:16:48.686272Z",
     "iopub.status.busy": "2023-10-05T22:16:48.685703Z",
     "iopub.status.idle": "2023-10-05T22:16:48.692428Z",
     "shell.execute_reply": "2023-10-05T22:16:48.691671Z"
    },
    "papermill": {
     "duration": 0.01747,
     "end_time": "2023-10-05T22:16:48.695469",
     "exception": false,
     "start_time": "2023-10-05T22:16:48.677999",
     "status": "completed"
    },
    "tags": []
   },
   "outputs": [],
   "source": [
    "class net(nn.Module):\n",
    "    \n",
    "\n",
    "    def __init__(self):\n",
    "        super(net, self).__init__()\n",
    "        self.layer1 = nn.Linear(4, 128) # 4 is length of states vector, 2 is number of actions\n",
    "        self.layer2 = nn.Linear(128,128)\n",
    "        self.layer3 = nn.Linear(128, 2)\n",
    "\n",
    "\n",
    "    def forward(self, x):\n",
    "        x = F.relu(self.layer1(x))\n",
    "        x = F.relu(self.layer2(x))\n",
    "        return self.layer3(x)\n",
    "    \n",
    "    def act(self, state): # I assume batch contains only 1 vector, otherwise it should be changed\n",
    "        y = self(state) # vector of length 2\n",
    "        return torch.argmax(y).item()\n",
    "\n",
    "    \n",
    "class random_model:\n",
    "\n",
    "    def __init__(self):\n",
    "        self.x = 1\n",
    "    \n",
    "    def act(self, state):\n",
    "        return np.random.randint(0,2)\n",
    "        \n",
    "\n",
    "        \n",
    "    "
   ]
  },
  {
   "cell_type": "markdown",
   "id": "fd1280f9",
   "metadata": {
    "papermill": {
     "duration": 0.005947,
     "end_time": "2023-10-05T22:16:48.708052",
     "exception": false,
     "start_time": "2023-10-05T22:16:48.702105",
     "status": "completed"
    },
    "tags": []
   },
   "source": [
    "# Train"
   ]
  },
  {
   "cell_type": "code",
   "execution_count": 7,
   "id": "ffd2e14f",
   "metadata": {
    "execution": {
     "iopub.execute_input": "2023-10-05T22:16:48.723697Z",
     "iopub.status.busy": "2023-10-05T22:16:48.723159Z",
     "iopub.status.idle": "2023-10-05T22:16:48.728134Z",
     "shell.execute_reply": "2023-10-05T22:16:48.726803Z"
    },
    "papermill": {
     "duration": 0.015968,
     "end_time": "2023-10-05T22:16:48.730675",
     "exception": false,
     "start_time": "2023-10-05T22:16:48.714707",
     "status": "completed"
    },
    "tags": []
   },
   "outputs": [],
   "source": [
    "import torch.optim as optim "
   ]
  },
  {
   "cell_type": "code",
   "execution_count": 8,
   "id": "345f066d",
   "metadata": {
    "execution": {
     "iopub.execute_input": "2023-10-05T22:16:48.747853Z",
     "iopub.status.busy": "2023-10-05T22:16:48.747158Z",
     "iopub.status.idle": "2023-10-05T22:16:48.754110Z",
     "shell.execute_reply": "2023-10-05T22:16:48.752809Z"
    },
    "papermill": {
     "duration": 0.020789,
     "end_time": "2023-10-05T22:16:48.757736",
     "exception": false,
     "start_time": "2023-10-05T22:16:48.736947",
     "status": "completed"
    },
    "tags": []
   },
   "outputs": [],
   "source": [
    "class Memory(Dataset):\n",
    "    \n",
    "    def __init__(self, l):\n",
    "        self.l = l\n",
    "        \n",
    "    def __len__(self):\n",
    "        return len(self.l)\n",
    "    \n",
    "    def __getitem__(self, idx):\n",
    "        prev_state = torch.tensor(self.l[idx][0],dtype = torch.float32)\n",
    "        action = torch.tensor(self.l[idx][1])\n",
    "        reward = torch.tensor(self.l[idx][2], dtype = torch.float32)\n",
    "        done = torch.tensor(self.l[idx][3])\n",
    "        next_state = torch.tensor(self.l[idx][4],dtype = torch.float32)\n",
    "        \n",
    "        return (prev_state,action,reward,done,next_state)\n",
    "    \n",
    "    "
   ]
  },
  {
   "cell_type": "code",
   "execution_count": null,
   "id": "f808a403",
   "metadata": {
    "papermill": {
     "duration": 0.009361,
     "end_time": "2023-10-05T22:16:48.776859",
     "exception": false,
     "start_time": "2023-10-05T22:16:48.767498",
     "status": "completed"
    },
    "tags": []
   },
   "outputs": [],
   "source": [
    "\n",
    "        \n"
   ]
  },
  {
   "cell_type": "code",
   "execution_count": 9,
   "id": "81a61c79",
   "metadata": {
    "execution": {
     "iopub.execute_input": "2023-10-05T22:16:48.795382Z",
     "iopub.status.busy": "2023-10-05T22:16:48.794345Z",
     "iopub.status.idle": "2023-10-05T22:16:48.803048Z",
     "shell.execute_reply": "2023-10-05T22:16:48.801251Z"
    },
    "papermill": {
     "duration": 0.023199,
     "end_time": "2023-10-05T22:16:48.806393",
     "exception": false,
     "start_time": "2023-10-05T22:16:48.783194",
     "status": "completed"
    },
    "tags": []
   },
   "outputs": [],
   "source": [
    "def select_action(policy, game, state, eps):\n",
    "    \n",
    "    if np.random.rand() < eps:\n",
    "        return game.action_space.sample() \n",
    "    else:\n",
    "        with torch.no_grad():\n",
    "            return policy.act(torch.tensor(state))"
   ]
  },
  {
   "cell_type": "markdown",
   "id": "9cc7cfa6",
   "metadata": {
    "papermill": {
     "duration": 0.008638,
     "end_time": "2023-10-05T22:16:48.824729",
     "exception": false,
     "start_time": "2023-10-05T22:16:48.816091",
     "status": "completed"
    },
    "tags": []
   },
   "source": []
  },
  {
   "cell_type": "code",
   "execution_count": null,
   "id": "7b45293f",
   "metadata": {
    "papermill": {
     "duration": 0.010534,
     "end_time": "2023-10-05T22:16:48.843933",
     "exception": false,
     "start_time": "2023-10-05T22:16:48.833399",
     "status": "completed"
    },
    "tags": []
   },
   "outputs": [],
   "source": []
  },
  {
   "cell_type": "code",
   "execution_count": null,
   "id": "792cef59",
   "metadata": {
    "papermill": {
     "duration": 0.007167,
     "end_time": "2023-10-05T22:16:48.860885",
     "exception": false,
     "start_time": "2023-10-05T22:16:48.853718",
     "status": "completed"
    },
    "tags": []
   },
   "outputs": [],
   "source": [
    "\n",
    "\n",
    "\n",
    "\n"
   ]
  },
  {
   "cell_type": "code",
   "execution_count": 10,
   "id": "678d116f",
   "metadata": {
    "execution": {
     "iopub.execute_input": "2023-10-05T22:16:48.877478Z",
     "iopub.status.busy": "2023-10-05T22:16:48.875881Z",
     "iopub.status.idle": "2023-10-05T22:16:48.891761Z",
     "shell.execute_reply": "2023-10-05T22:16:48.890349Z"
    },
    "papermill": {
     "duration": 0.027474,
     "end_time": "2023-10-05T22:16:48.894476",
     "exception": false,
     "start_time": "2023-10-05T22:16:48.867002",
     "status": "completed"
    },
    "tags": []
   },
   "outputs": [],
   "source": [
    "def train(model, game, data_size, optimizer, n_epoch = 10000, batch_size = 32, eps = 0.01, gamma = 1.0, target_update = 100):\n",
    "    \n",
    "    # prepare dataset on which we train, dataset is called memory\n",
    "    \n",
    "    memory = []\n",
    "    \n",
    "    obs_0, info = game.reset()\n",
    "    while len(memory) < data_size:\n",
    "        a = select_action(model, game, obs_0, eps)\n",
    "        obs_1, r, terminated, truncated, info = game.step(a)\n",
    "        done = terminated or truncated\n",
    "        sample = (obs_0, a, r, done, obs_1)\n",
    "        memory.append(sample)\n",
    "        if terminated or truncated:\n",
    "            obs_0, info = game.reset()\n",
    "    \n",
    "    memory = Memory(memory)\n",
    "    memory_dataloader = DataLoader(memory, batch_size = batch_size, shuffle = True)\n",
    "    \n",
    "    \n",
    "    # memory is ready, now we train on memory\n",
    "        \n",
    "    target_nn = net().to(device)\n",
    "    model.to(device)\n",
    "    target_nn.load_state_dict(model.state_dict())\n",
    "    step = 1 # for target update\n",
    "    \n",
    "    # add loss per epoch\n",
    "    huber_loss = nn.SmoothL1Loss()\n",
    "    t = time.time()\n",
    "    \n",
    "    losses_per_epoch = []\n",
    "    \n",
    "    for epoch in range(n_epoch):\n",
    "        total_loss = 0.0\n",
    "        for batch, data in enumerate(memory_dataloader):\n",
    "            #t_per_batch = time.time()\n",
    "            prev_states, actions, rewards, dones, next_states = data\n",
    "            \n",
    "            prev_states = prev_states.to(device)\n",
    "            #print(prev_states.is_cuda)\n",
    "            \n",
    "            actions = actions.to(device)\n",
    "            \n",
    "            rewards = rewards.to(device)\n",
    "            dones = dones.to(device)\n",
    "            next_states = next_states.to(device)\n",
    "            #print(model.is_cuda)\n",
    "    \n",
    "            predicted = model(prev_states)[torch.arange(len(prev_states)).to(device),actions]\n",
    "            \n",
    "            target = target_nn(next_states).max(dim = 1).values * dones + rewards # if done is true target value should be 0\n",
    "           # print(predicted.size())\n",
    "           # print(target.size())\n",
    "            \n",
    "            loss = huber_loss(predicted, target)\n",
    "            loss.backward()\n",
    "            optimizer.step()\n",
    "            optimizer.zero_grad()\n",
    "            total_loss += loss\n",
    "          #  if step % 100 == 0:\n",
    "           #     loss, current = loss.item(), (batch + 1) * batch_size\n",
    "          #      print(f\"loss is {loss} step {step}\")\n",
    "                \n",
    "            if step%target_update == 0:\n",
    "                # copy target\n",
    "                target_nn.load_state_dict(model.state_dict())\n",
    "           #     print(\"updated target network\")\n",
    "            step += 1\n",
    "            #t_per_batch_new = time.time()\n",
    "            #print(f\"time to train batch is {t_per_batch_new - t_per_batch}\")\n",
    "            #t_per_batch_new = time.time()\n",
    "        if epoch % 10 == 0:\n",
    "            \n",
    "            print(f\"at epoch {epoch} total loss is {total_loss}\")\n",
    "            t_new = time.time()\n",
    "          #  print(f\"time for epoch {epoch} is {t_new - t}\")\n",
    "            t = t_new\n",
    "            \n",
    "        losses_per_epoch.append(total_loss)\n",
    "    return losses_per_epoch\n",
    "                  \n",
    "                \n",
    "    "
   ]
  },
  {
   "cell_type": "code",
   "execution_count": 11,
   "id": "a865f6e6",
   "metadata": {
    "execution": {
     "iopub.execute_input": "2023-10-05T22:16:48.917716Z",
     "iopub.status.busy": "2023-10-05T22:16:48.917251Z",
     "iopub.status.idle": "2023-10-05T22:16:48.925540Z",
     "shell.execute_reply": "2023-10-05T22:16:48.924154Z"
    },
    "papermill": {
     "duration": 0.021171,
     "end_time": "2023-10-05T22:16:48.928073",
     "exception": false,
     "start_time": "2023-10-05T22:16:48.906902",
     "status": "completed"
    },
    "tags": []
   },
   "outputs": [
    {
     "data": {
      "text/plain": [
       "device(type='cpu')"
      ]
     },
     "execution_count": 11,
     "metadata": {},
     "output_type": "execute_result"
    }
   ],
   "source": [
    "device"
   ]
  },
  {
   "cell_type": "code",
   "execution_count": 12,
   "id": "9358dce9",
   "metadata": {
    "execution": {
     "iopub.execute_input": "2023-10-05T22:16:48.941928Z",
     "iopub.status.busy": "2023-10-05T22:16:48.941188Z",
     "iopub.status.idle": "2023-10-05T22:16:49.012863Z",
     "shell.execute_reply": "2023-10-05T22:16:49.009203Z"
    },
    "papermill": {
     "duration": 0.081882,
     "end_time": "2023-10-05T22:16:49.015862",
     "exception": false,
     "start_time": "2023-10-05T22:16:48.933980",
     "status": "completed"
    },
    "tags": []
   },
   "outputs": [
    {
     "name": "stdout",
     "output_type": "stream",
     "text": [
      "net(\n",
      "  (layer1): Linear(in_features=4, out_features=128, bias=True)\n",
      "  (layer2): Linear(in_features=128, out_features=128, bias=True)\n",
      "  (layer3): Linear(in_features=128, out_features=2, bias=True)\n",
      ")\n"
     ]
    }
   ],
   "source": [
    "env = gym.make('CartPole-v1')\n",
    "linear = net()\n",
    "print(linear)\n",
    "\n",
    "\n",
    "#sgd = optim.SGD(linear.parameters(), lr = 1e-3)\n",
    "adam = optim.AdamW(linear.parameters(), lr=1e-4, amsgrad=True)"
   ]
  },
  {
   "cell_type": "code",
   "execution_count": 13,
   "id": "85fafc70",
   "metadata": {
    "execution": {
     "iopub.execute_input": "2023-10-05T22:16:49.030740Z",
     "iopub.status.busy": "2023-10-05T22:16:49.030380Z",
     "iopub.status.idle": "2023-10-05T22:17:00.475095Z",
     "shell.execute_reply": "2023-10-05T22:17:00.474278Z"
    },
    "papermill": {
     "duration": 11.455373,
     "end_time": "2023-10-05T22:17:00.477734",
     "exception": false,
     "start_time": "2023-10-05T22:16:49.022361",
     "status": "completed"
    },
    "tags": []
   },
   "outputs": [
    {
     "name": "stdout",
     "output_type": "stream",
     "text": [
      "at epoch 0 total loss is 36.3692512512207\n"
     ]
    }
   ],
   "source": [
    "losses = train(linear,env,10000,adam, batch_size = 64,n_epoch = 10, target_update = 30)"
   ]
  },
  {
   "cell_type": "code",
   "execution_count": 14,
   "id": "e2d86428",
   "metadata": {
    "execution": {
     "iopub.execute_input": "2023-10-05T22:17:00.492441Z",
     "iopub.status.busy": "2023-10-05T22:17:00.491431Z",
     "iopub.status.idle": "2023-10-05T22:17:00.497038Z",
     "shell.execute_reply": "2023-10-05T22:17:00.495955Z"
    },
    "papermill": {
     "duration": 0.015487,
     "end_time": "2023-10-05T22:17:00.499481",
     "exception": false,
     "start_time": "2023-10-05T22:17:00.483994",
     "status": "completed"
    },
    "tags": []
   },
   "outputs": [
    {
     "name": "stdout",
     "output_type": "stream",
     "text": [
      "cpu\n"
     ]
    }
   ],
   "source": [
    "print(device)"
   ]
  },
  {
   "cell_type": "code",
   "execution_count": null,
   "id": "6d2bc9ce",
   "metadata": {
    "papermill": {
     "duration": 0.006046,
     "end_time": "2023-10-05T22:17:00.512271",
     "exception": false,
     "start_time": "2023-10-05T22:17:00.506225",
     "status": "completed"
    },
    "tags": []
   },
   "outputs": [],
   "source": []
  },
  {
   "cell_type": "code",
   "execution_count": 15,
   "id": "23e0d914",
   "metadata": {
    "execution": {
     "iopub.execute_input": "2023-10-05T22:17:00.527684Z",
     "iopub.status.busy": "2023-10-05T22:17:00.527315Z",
     "iopub.status.idle": "2023-10-05T22:17:00.530916Z",
     "shell.execute_reply": "2023-10-05T22:17:00.530160Z"
    },
    "papermill": {
     "duration": 0.014172,
     "end_time": "2023-10-05T22:17:00.532756",
     "exception": false,
     "start_time": "2023-10-05T22:17:00.518584",
     "status": "completed"
    },
    "tags": []
   },
   "outputs": [],
   "source": [
    "#losses = [l.item() for l in losses]\n",
    "#plt.plot(losses)"
   ]
  },
  {
   "cell_type": "code",
   "execution_count": null,
   "id": "9dfb835c",
   "metadata": {
    "papermill": {
     "duration": 0.006113,
     "end_time": "2023-10-05T22:17:00.546014",
     "exception": false,
     "start_time": "2023-10-05T22:17:00.539901",
     "status": "completed"
    },
    "tags": []
   },
   "outputs": [],
   "source": []
  },
  {
   "cell_type": "code",
   "execution_count": null,
   "id": "6921c448",
   "metadata": {
    "papermill": {
     "duration": 0.006409,
     "end_time": "2023-10-05T22:17:00.558692",
     "exception": false,
     "start_time": "2023-10-05T22:17:00.552283",
     "status": "completed"
    },
    "tags": []
   },
   "outputs": [],
   "source": []
  },
  {
   "cell_type": "code",
   "execution_count": 16,
   "id": "a923c10d",
   "metadata": {
    "execution": {
     "iopub.execute_input": "2023-10-05T22:17:00.573736Z",
     "iopub.status.busy": "2023-10-05T22:17:00.573353Z",
     "iopub.status.idle": "2023-10-05T22:17:00.582126Z",
     "shell.execute_reply": "2023-10-05T22:17:00.580724Z"
    },
    "papermill": {
     "duration": 0.01908,
     "end_time": "2023-10-05T22:17:00.584635",
     "exception": false,
     "start_time": "2023-10-05T22:17:00.565555",
     "status": "completed"
    },
    "tags": []
   },
   "outputs": [],
   "source": [
    "def play(model, episodes, text = False, show = False, plot = False):\n",
    "\n",
    "    if show:\n",
    "        game = gym.make('CartPole-v1', render_mode = \"human\")\n",
    "    else:\n",
    "        game = gym.make('CartPole-v1')\n",
    "    rewards = []\n",
    "    for ep in range(episodes):\n",
    "        obs, info = game.reset()\n",
    "        obs = torch.from_numpy(obs)\n",
    "        t_r = 0.0\n",
    "        duration = 0\n",
    "        while True:\n",
    "            time.sleep(0.01)\n",
    "           # action = model(obs).argmax().item()\n",
    "            action = model.act(obs)\n",
    "            obs, reward, terminated, truncated, info = game.step(action)\n",
    "            obs = torch.from_numpy(obs)\n",
    "            if terminated or truncated:\n",
    "                if text:\n",
    "                    print(f\"duration of episode {ep} was {duration}\")\n",
    "                    print(f\"total reward for episode {ep} was {t_r}\")\n",
    "                obs, info = game.reset()\n",
    "                break\n",
    "            duration += 1\n",
    "            t_r += reward\n",
    "        rewards.append(t_r)\n",
    "    plt.plot(rewards)\n",
    "\n",
    "\n",
    "\n"
   ]
  },
  {
   "cell_type": "code",
   "execution_count": 17,
   "id": "e8ccb2f0",
   "metadata": {
    "execution": {
     "iopub.execute_input": "2023-10-05T22:17:00.599773Z",
     "iopub.status.busy": "2023-10-05T22:17:00.599060Z",
     "iopub.status.idle": "2023-10-05T22:17:02.479415Z",
     "shell.execute_reply": "2023-10-05T22:17:02.478528Z"
    },
    "papermill": {
     "duration": 1.890706,
     "end_time": "2023-10-05T22:17:02.481966",
     "exception": false,
     "start_time": "2023-10-05T22:17:00.591260",
     "status": "completed"
    },
    "tags": []
   },
   "outputs": [
    {
     "name": "stdout",
     "output_type": "stream",
     "text": [
      "duration of episode 0 was 7\n",
      "total reward for episode 0 was 7.0\n",
      "duration of episode 1 was 8\n",
      "total reward for episode 1 was 8.0\n",
      "duration of episode 2 was 9\n",
      "total reward for episode 2 was 9.0\n",
      "duration of episode 3 was 8\n",
      "total reward for episode 3 was 8.0\n",
      "duration of episode 4 was 9\n",
      "total reward for episode 4 was 9.0\n",
      "duration of episode 5 was 10\n",
      "total reward for episode 5 was 10.0\n",
      "duration of episode 6 was 9\n",
      "total reward for episode 6 was 9.0\n",
      "duration of episode 7 was 8\n",
      "total reward for episode 7 was 8.0\n",
      "duration of episode 8 was 7\n",
      "total reward for episode 8 was 7.0\n",
      "duration of episode 9 was 8\n",
      "total reward for episode 9 was 8.0\n",
      "duration of episode 10 was 10\n",
      "total reward for episode 10 was 10.0\n",
      "duration of episode 11 was 9\n",
      "total reward for episode 11 was 9.0\n",
      "duration of episode 12 was 7\n",
      "total reward for episode 12 was 7.0\n",
      "duration of episode 13 was 10\n",
      "total reward for episode 13 was 10.0\n",
      "duration of episode 14 was 8\n",
      "total reward for episode 14 was 8.0\n"
     ]
    },
    {
     "data": {
      "image/png": "[encoded data removed]",
      "text/plain": [
       "<Figure size 640x480 with 1 Axes>"
      ]
     },
     "metadata": {},
     "output_type": "display_data"
    }
   ],
   "source": [
    "torch.manual_seed(12345)\n",
    "\n",
    "play(linear.to('cpu'), 15, True, False,True)"
   ]
  },
  {
   "cell_type": "code",
   "execution_count": 18,
   "id": "dfc0427f",
   "metadata": {
    "execution": {
     "iopub.execute_input": "2023-10-05T22:17:02.499921Z",
     "iopub.status.busy": "2023-10-05T22:17:02.499491Z",
     "iopub.status.idle": "2023-10-05T22:17:05.013466Z",
     "shell.execute_reply": "2023-10-05T22:17:05.011769Z"
    },
    "papermill": {
     "duration": 2.526728,
     "end_time": "2023-10-05T22:17:05.016343",
     "exception": false,
     "start_time": "2023-10-05T22:17:02.489615",
     "status": "completed"
    },
    "tags": []
   },
   "outputs": [
    {
     "name": "stdout",
     "output_type": "stream",
     "text": [
      "duration of episode 0 was 30\n",
      "total reward for episode 0 was 30.0\n",
      "duration of episode 1 was 18\n",
      "total reward for episode 1 was 18.0\n",
      "duration of episode 2 was 16\n",
      "total reward for episode 2 was 16.0\n",
      "duration of episode 3 was 56\n",
      "total reward for episode 3 was 56.0\n",
      "duration of episode 4 was 17\n",
      "total reward for episode 4 was 17.0\n",
      "duration of episode 5 was 16\n",
      "total reward for episode 5 was 16.0\n",
      "duration of episode 6 was 20\n",
      "total reward for episode 6 was 20.0\n",
      "duration of episode 7 was 14\n",
      "total reward for episode 7 was 14.0\n",
      "duration of episode 8 was 14\n",
      "total reward for episode 8 was 14.0\n",
      "duration of episode 9 was 8\n",
      "total reward for episode 9 was 8.0\n"
     ]
    },
    {
     "data": {
      "image/png": "[encoded data removed]",
      "text/plain": [
       "<Figure size 640x480 with 1 Axes>"
      ]
     },
     "metadata": {},
     "output_type": "display_data"
    }
   ],
   "source": [
    "r_m = random_model()\n",
    "torch.manual_seed(12345)\n",
    "\n",
    "play(r_m,10,True, False,True)"
   ]
  },
  {
   "cell_type": "code",
   "execution_count": null,
   "id": "3b145b3c",
   "metadata": {
    "papermill": {
     "duration": 0.008374,
     "end_time": "2023-10-05T22:17:05.034262",
     "exception": false,
     "start_time": "2023-10-05T22:17:05.025888",
     "status": "completed"
    },
    "tags": []
   },
   "outputs": [],
   "source": []
  },
  {
   "cell_type": "code",
   "execution_count": null,
   "id": "f86e9b7e",
   "metadata": {
    "papermill": {
     "duration": 0.008455,
     "end_time": "2023-10-05T22:17:05.051624",
     "exception": false,
     "start_time": "2023-10-05T22:17:05.043169",
     "status": "completed"
    },
    "tags": []
   },
   "outputs": [],
   "source": []
  }
 ],
 "metadata": {
  "kernelspec": {
   "display_name": "Python 3",
   "language": "python",
   "name": "python3"
  },
  "language_info": {
   "codemirror_mode": {
    "name": "ipython",
    "version": 3
   },
   "file_extension": ".py",
   "mimetype": "text/x-python",
   "name": "python",
   "nbconvert_exporter": "python",
   "pygments_lexer": "ipython3",
   "version": "3.10.12"
  },
  "papermill": {
   "default_parameters": {},
   "duration": 26.481197,
   "end_time": "2023-10-05T22:17:06.288909",
   "environment_variables": {},
   "exception": null,
   "input_path": "__notebook__.ipynb",
   "output_path": "__notebook__.ipynb",
   "parameters": {},
   "start_time": "2023-10-05T22:16:39.807712",
   "version": "2.4.0"
  }
 },
 "nbformat": 4,
 "nbformat_minor": 5
}
